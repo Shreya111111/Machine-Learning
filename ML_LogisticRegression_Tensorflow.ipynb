{
  "nbformat": 4,
  "nbformat_minor": 0,
  "metadata": {
    "colab": {
      "provenance": [],
      "authorship_tag": "ABX9TyMPO+TW9p+bEGlaAQ5/pkw0",
      "include_colab_link": true
    },
    "kernelspec": {
      "name": "python3",
      "display_name": "Python 3"
    },
    "language_info": {
      "name": "python"
    }
  },
  "cells": [
    {
      "cell_type": "markdown",
      "metadata": {
        "id": "view-in-github",
        "colab_type": "text"
      },
      "source": [
        "<a href=\"https://colab.research.google.com/github/Shreya111111/Machine-Learning/blob/main/ML_LogisticRegression_Tensorflow.ipynb\" target=\"_parent\"><img src=\"https://colab.research.google.com/assets/colab-badge.svg\" alt=\"Open In Colab\"/></a>"
      ]
    },
    {
      "cell_type": "code",
      "execution_count": 24,
      "metadata": {
        "id": "FRMuGBS7FZ_g",
        "colab": {
          "base_uri": "https://localhost:8080/"
        },
        "outputId": "82508f7d-1770-471f-d409-bbbaa0e6f93b"
      },
      "outputs": [
        {
          "output_type": "stream",
          "name": "stderr",
          "text": [
            "WARNING:tensorflow:From /usr/local/lib/python3.8/dist-packages/tensorflow/python/compat/v2_compat.py:107: disable_resource_variables (from tensorflow.python.ops.variable_scope) is deprecated and will be removed in a future version.\n",
            "Instructions for updating:\n",
            "non-resource variables are not supported in the long term\n"
          ]
        }
      ],
      "source": [
        "import numpy as np\n",
        "import matplotlib.pyplot as plt\n",
        "import pandas as pd\n",
        "import tensorflow as tf\n",
        "import tensorflow.compat.v1 as tf\n",
        "tf.disable_v2_behavior()\n",
        "from sklearn.preprocessing import OneHotEncoder"
      ]
    },
    {
      "cell_type": "markdown",
      "source": [
        "Sigmoid Function"
      ],
      "metadata": {
        "id": "QIT-gxeSHmo3"
      }
    },
    {
      "cell_type": "code",
      "source": [
        "def sigmoid(z):\n",
        "    return 1 / (1 + np.exp( - z))"
      ],
      "metadata": {
        "id": "Cm6tE3IsHjB3"
      },
      "execution_count": null,
      "outputs": []
    },
    {
      "cell_type": "code",
      "source": [
        "plt.plot(np.arange(-53, 51, 0.178), sigmoid(np.arange(-53, 51, 0.178)))\n",
        "plt.title('Sigmoid Function')\n",
        "plt.xlabel('x')\n",
        "plt.ylabel('y')\n",
        "  \n",
        "plt.show()"
      ],
      "metadata": {
        "colab": {
          "base_uri": "https://localhost:8080/",
          "height": 295
        },
        "id": "lB6wSc1GHuhn",
        "outputId": "dbcb7260-3833-4b7d-a5cb-7e73b8475f35"
      },
      "execution_count": null,
      "outputs": [
        {
          "output_type": "display_data",
          "data": {
            "text/plain": [
              "<Figure size 432x288 with 1 Axes>"
            ],
            "image/png": "[encoded data removed]"
          },
          "metadata": {
            "needs_background": "light"
          }
        }
      ]
    },
    {
      "cell_type": "code",
      "source": [
        "from google.colab import files\n",
        "import io\n",
        "data = files.upload()"
      ],
      "metadata": {
        "colab": {
          "base_uri": "https://localhost:8080/",
          "height": 74
        },
        "id": "aynW3JwWJDNu",
        "outputId": "3afd8f6b-f4c7-4a2e-f911-3231e6c4f563"
      },
      "execution_count": null,
      "outputs": [
        {
          "output_type": "display_data",
          "data": {
            "text/plain": [
              "<IPython.core.display.HTML object>"
            ],
            "text/html": [
              "\n",
              "     <input type=\"file\" id=\"files-e8d5a0c7-4aac-4773-8b84-8201be7ca5b5\" name=\"files[]\" multiple disabled\n",
              "        style=\"border:none\" />\n",
              "     <output id=\"result-e8d5a0c7-4aac-4773-8b84-8201be7ca5b5\">\n",
              "      Upload widget is only available when the cell has been executed in the\n",
              "      current browser session. Please rerun this cell to enable.\n",
              "      </output>\n",
              "      <script>// Copyright 2017 Google LLC\n",
              "//\n",
              "// Licensed under the Apache License, Version 2.0 (the \"License\");\n",
              "// you may not use this file except in compliance with the License.\n",
              "// You may obtain a copy of the License at\n",
              "//\n",
              "//      http://www.apache.org/licenses/LICENSE-2.0\n",
              "//\n",
              "// Unless required by applicable law or agreed to in writing, software\n",
              "// distributed under the License is distributed on an \"AS IS\" BASIS,\n",
              "// WITHOUT WARRANTIES OR CONDITIONS OF ANY KIND, either express or implied.\n",
              "// See the License for the specific language governing permissions and\n",
              "// limitations under the License.\n",
              "\n",
              "/**\n",
              " * @fileoverview Helpers for google.colab Python module.\n",
              " */\n",
              "(function(scope) {\n",
              "function span(text, styleAttributes = {}) {\n",
              "  const element = document.createElement('span');\n",
              "  element.textContent = text;\n",
              "  for (const key of Object.keys(styleAttributes)) {\n",
              "    element.style[key] = styleAttributes[key];\n",
              "  }\n",
              "  return element;\n",
              "}\n",
              "\n",
              "// Max number of bytes which will be uploaded at a time.\n",
              "const MAX_PAYLOAD_SIZE = 100 * 1024;\n",
              "\n",
              "function _uploadFiles(inputId, outputId) {\n",
              "  const steps = uploadFilesStep(inputId, outputId);\n",
              "  const outputElement = document.getElementById(outputId);\n",
              "  // Cache steps on the outputElement to make it available for the next call\n",
              "  // to uploadFilesContinue from Python.\n",
              "  outputElement.steps = steps;\n",
              "\n",
              "  return _uploadFilesContinue(outputId);\n",
              "}\n",
              "\n",
              "// This is roughly an async generator (not supported in the browser yet),\n",
              "// where there are multiple asynchronous steps and the Python side is going\n",
              "// to poll for completion of each step.\n",
              "// This uses a Promise to block the python side on completion of each step,\n",
              "// then passes the result of the previous step as the input to the next step.\n",
              "function _uploadFilesContinue(outputId) {\n",
              "  const outputElement = document.getElementById(outputId);\n",
              "  const steps = outputElement.steps;\n",
              "\n",
              "  const next = steps.next(outputElement.lastPromiseValue);\n",
              "  return Promise.resolve(next.value.promise).then((value) => {\n",
              "    // Cache the last promise value to make it available to the next\n",
              "    // step of the generator.\n",
              "    outputElement.lastPromiseValue = value;\n",
              "    return next.value.response;\n",
              "  });\n",
              "}\n",
              "\n",
              "/**\n",
              " * Generator function which is called between each async step of the upload\n",
              " * process.\n",
              " * @param {string} inputId Element ID of the input file picker element.\n",
              " * @param {string} outputId Element ID of the output display.\n",
              " * @return {!Iterable<!Object>} Iterable of next steps.\n",
              " */\n",
              "function* uploadFilesStep(inputId, outputId) {\n",
              "  const inputElement = document.getElementById(inputId);\n",
              "  inputElement.disabled = false;\n",
              "\n",
              "  const outputElement = document.getElementById(outputId);\n",
              "  outputElement.innerHTML = '';\n",
              "\n",
              "  const pickedPromise = new Promise((resolve) => {\n",
              "    inputElement.addEventListener('change', (e) => {\n",
              "      resolve(e.target.files);\n",
              "    });\n",
              "  });\n",
              "\n",
              "  const cancel = document.createElement('button');\n",
              "  inputElement.parentElement.appendChild(cancel);\n",
              "  cancel.textContent = 'Cancel upload';\n",
              "  const cancelPromise = new Promise((resolve) => {\n",
              "    cancel.onclick = () => {\n",
              "      resolve(null);\n",
              "    };\n",
              "  });\n",
              "\n",
              "  // Wait for the user to pick the files.\n",
              "  const files = yield {\n",
              "    promise: Promise.race([pickedPromise, cancelPromise]),\n",
              "    response: {\n",
              "      action: 'starting',\n",
              "    }\n",
              "  };\n",
              "\n",
              "  cancel.remove();\n",
              "\n",
              "  // Disable the input element since further picks are not allowed.\n",
              "  inputElement.disabled = true;\n",
              "\n",
              "  if (!files) {\n",
              "    return {\n",
              "      response: {\n",
              "        action: 'complete',\n",
              "      }\n",
              "    };\n",
              "  }\n",
              "\n",
              "  for (const file of files) {\n",
              "    const li = document.createElement('li');\n",
              "    li.append(span(file.name, {fontWeight: 'bold'}));\n",
              "    li.append(span(\n",
              "        `(${file.type || 'n/a'}) - ${file.size} bytes, ` +\n",
              "        `last modified: ${\n",
              "            file.lastModifiedDate ? file.lastModifiedDate.toLocaleDateString() :\n",
              "                                    'n/a'} - `));\n",
              "    const percent = span('0% done');\n",
              "    li.appendChild(percent);\n",
              "\n",
              "    outputElement.appendChild(li);\n",
              "\n",
              "    const fileDataPromise = new Promise((resolve) => {\n",
              "      const reader = new FileReader();\n",
              "      reader.onload = (e) => {\n",
              "        resolve(e.target.result);\n",
              "      };\n",
              "      reader.readAsArrayBuffer(file);\n",
              "    });\n",
              "    // Wait for the data to be ready.\n",
              "    let fileData = yield {\n",
              "      promise: fileDataPromise,\n",
              "      response: {\n",
              "        action: 'continue',\n",
              "      }\n",
              "    };\n",
              "\n",
              "    // Use a chunked sending to avoid message size limits. See b/62115660.\n",
              "    let position = 0;\n",
              "    do {\n",
              "      const length = Math.min(fileData.byteLength - position, MAX_PAYLOAD_SIZE);\n",
              "      const chunk = new Uint8Array(fileData, position, length);\n",
              "      position += length;\n",
              "\n",
              "      const base64 = btoa(String.fromCharCode.apply(null, chunk));\n",
              "      yield {\n",
              "        response: {\n",
              "          action: 'append',\n",
              "          file: file.name,\n",
              "          data: base64,\n",
              "        },\n",
              "      };\n",
              "\n",
              "      let percentDone = fileData.byteLength === 0 ?\n",
              "          100 :\n",
              "          Math.round((position / fileData.byteLength) * 100);\n",
              "      percent.textContent = `${percentDone}% done`;\n",
              "\n",
              "    } while (position < fileData.byteLength);\n",
              "  }\n",
              "\n",
              "  // All done.\n",
              "  yield {\n",
              "    response: {\n",
              "      action: 'complete',\n",
              "    }\n",
              "  };\n",
              "}\n",
              "\n",
              "scope.google = scope.google || {};\n",
              "scope.google.colab = scope.google.colab || {};\n",
              "scope.google.colab._files = {\n",
              "  _uploadFiles,\n",
              "  _uploadFilesContinue,\n",
              "};\n",
              "})(self);\n",
              "</script> "
            ]
          },
          "metadata": {}
        },
        {
          "output_type": "stream",
          "name": "stdout",
          "text": [
            "Saving dataset.csv to dataset.csv\n"
          ]
        }
      ]
    },
    {
      "cell_type": "code",
      "source": [
        "df=pd.read_csv(io.StringIO(data['dataset.csv'].decode('utf-8')))"
      ],
      "metadata": {
        "id": "pc1TEI4OJRur"
      },
      "execution_count": 14,
      "outputs": []
    },
    {
      "cell_type": "code",
      "source": [
        "print(\"Data Shape:\", df.shape)\n",
        "  \n",
        "print(df.head())"
      ],
      "metadata": {
        "colab": {
          "base_uri": "https://localhost:8080/"
        },
        "id": "l3AJywxfJu3w",
        "outputId": "c42a187d-feb7-457c-dae5-7345ca5170bc"
      },
      "execution_count": 15,
      "outputs": [
        {
          "output_type": "stream",
          "name": "stdout",
          "text": [
            "Data Shape: (99, 4)\n",
            "   0  5.1  3.5  1\n",
            "0  1  4.9  3.0  1\n",
            "1  2  4.7  3.2  1\n",
            "2  3  4.6  3.1  1\n",
            "3  4  5.0  3.6  1\n",
            "4  5  5.4  3.9  1\n"
          ]
        }
      ]
    },
    {
      "cell_type": "code",
      "source": [
        "x_orig = df.iloc[:, 1:-1].values\n",
        "y_orig = df.iloc[:, -1:].values\n",
        "  \n",
        "print(x_orig.shape)\n",
        "print(y_orig.shape)"
      ],
      "metadata": {
        "colab": {
          "base_uri": "https://localhost:8080/"
        },
        "id": "sw2ll0c0K4qd",
        "outputId": "afb95fb5-7621-4186-c8e4-ada2fa65d3da"
      },
      "execution_count": 18,
      "outputs": [
        {
          "output_type": "stream",
          "name": "stdout",
          "text": [
            "(99, 2)\n",
            "(99, 1)\n"
          ]
        }
      ]
    },
    {
      "cell_type": "code",
      "source": [
        "# Positive Data Points\n",
        "x_pos = np.array([x_orig[i] for i in range(len(x_orig))\n",
        "                                    if y_orig[i] == 1])\n",
        "  \n",
        "# Negative Data Points\n",
        "x_neg = np.array([x_orig[i] for i in range(len(x_orig))\n",
        "                                    if y_orig[i] == 0])\n",
        "  \n",
        "# Plotting the Positive Data Points\n",
        "plt.scatter(x_pos[:, 0], x_pos[:, 1], color = 'blue', label = 'Positive')\n",
        "  \n",
        "# Plotting the Negative Data Points\n",
        "plt.scatter(x_neg[:, 0], x_neg[:, 1], color = 'red', label = 'Negative')\n",
        "plt.plot(decision_boundary_x, decision_boundary_y)\n",
        "plt.xlabel('Feature 1')\n",
        "plt.ylabel('Feature 2')\n",
        "plt.title('Plot of given data')\n",
        "plt.legend()\n",
        "  \n",
        "plt.show()"
      ],
      "metadata": {
        "colab": {
          "base_uri": "https://localhost:8080/",
          "height": 486
        },
        "id": "C9PUgyBbNLcj",
        "outputId": "d33eb50d-ef42-49dc-bd01-1b41220b3479"
      },
      "execution_count": 32,
      "outputs": [
        {
          "output_type": "error",
          "ename": "NameError",
          "evalue": "ignored",
          "traceback": [
            "\u001b[0;31m---------------------------------------------------------------------------\u001b[0m",
            "\u001b[0;31mNameError\u001b[0m                                 Traceback (most recent call last)",
            "\u001b[0;32m<ipython-input-32-6d96dff843ce>\u001b[0m in \u001b[0;36m<module>\u001b[0;34m\u001b[0m\n\u001b[1;32m     12\u001b[0m \u001b[0;31m# Plotting the Negative Data Points\u001b[0m\u001b[0;34m\u001b[0m\u001b[0;34m\u001b[0m\u001b[0;34m\u001b[0m\u001b[0m\n\u001b[1;32m     13\u001b[0m \u001b[0mplt\u001b[0m\u001b[0;34m.\u001b[0m\u001b[0mscatter\u001b[0m\u001b[0;34m(\u001b[0m\u001b[0mx_neg\u001b[0m\u001b[0;34m[\u001b[0m\u001b[0;34m:\u001b[0m\u001b[0;34m,\u001b[0m \u001b[0;36m0\u001b[0m\u001b[0;34m]\u001b[0m\u001b[0;34m,\u001b[0m \u001b[0mx_neg\u001b[0m\u001b[0;34m[\u001b[0m\u001b[0;34m:\u001b[0m\u001b[0;34m,\u001b[0m \u001b[0;36m1\u001b[0m\u001b[0;34m]\u001b[0m\u001b[0;34m,\u001b[0m \u001b[0mcolor\u001b[0m \u001b[0;34m=\u001b[0m \u001b[0;34m'red'\u001b[0m\u001b[0;34m,\u001b[0m \u001b[0mlabel\u001b[0m \u001b[0;34m=\u001b[0m \u001b[0;34m'Negative'\u001b[0m\u001b[0;34m)\u001b[0m\u001b[0;34m\u001b[0m\u001b[0;34m\u001b[0m\u001b[0m\n\u001b[0;32m---> 14\u001b[0;31m \u001b[0mplt\u001b[0m\u001b[0;34m.\u001b[0m\u001b[0mplot\u001b[0m\u001b[0;34m(\u001b[0m\u001b[0mdecision_boundary_x\u001b[0m\u001b[0;34m,\u001b[0m \u001b[0mdecision_boundary_y\u001b[0m\u001b[0;34m)\u001b[0m\u001b[0;34m\u001b[0m\u001b[0;34m\u001b[0m\u001b[0m\n\u001b[0m\u001b[1;32m     15\u001b[0m \u001b[0mplt\u001b[0m\u001b[0;34m.\u001b[0m\u001b[0mxlabel\u001b[0m\u001b[0;34m(\u001b[0m\u001b[0;34m'Feature 1'\u001b[0m\u001b[0;34m)\u001b[0m\u001b[0;34m\u001b[0m\u001b[0;34m\u001b[0m\u001b[0m\n\u001b[1;32m     16\u001b[0m \u001b[0mplt\u001b[0m\u001b[0;34m.\u001b[0m\u001b[0mylabel\u001b[0m\u001b[0;34m(\u001b[0m\u001b[0;34m'Feature 2'\u001b[0m\u001b[0;34m)\u001b[0m\u001b[0;34m\u001b[0m\u001b[0;34m\u001b[0m\u001b[0m\n",
            "\u001b[0;31mNameError\u001b[0m: name 'decision_boundary_x' is not defined"
          ]
        },
        {
          "output_type": "display_data",
          "data": {
            "text/plain": [
              "<Figure size 432x288 with 1 Axes>"
            ],
            "image/png": "[encoded data removed]"
          },
          "metadata": {
            "needs_background": "light"
          }
        }
      ]
    },
    {
      "cell_type": "code",
      "source": [
        "# Creating the One Hot Encoder\n",
        "oneHot = OneHotEncoder()\n",
        "  \n",
        "# Encoding x_orig\n",
        "oneHot.fit(x_orig)\n",
        "x = oneHot.transform(x_orig).toarray()\n",
        "  \n",
        "# Encoding y_orig\n",
        "oneHot.fit(y_orig)\n",
        "y = oneHot.transform(y_orig).toarray()\n",
        "  \n",
        "alpha, epochs = 0.00365, 500\n",
        "m, n = x.shape\n",
        "print('m =', m)\n",
        "print('n =', n)\n",
        "print('Learning Rate =', alpha)\n",
        "print('Number of Epochs =', epochs)"
      ],
      "metadata": {
        "colab": {
          "base_uri": "https://localhost:8080/"
        },
        "id": "yh2Hxi0uTECv",
        "outputId": "62c47706-0816-4594-a074-8889d79fa7b1"
      },
      "execution_count": 21,
      "outputs": [
        {
          "output_type": "stream",
          "name": "stdout",
          "text": [
            "m = 99\n",
            "n = 51\n",
            "Learning Rate = 0.00365\n",
            "Number of Epochs = 500\n"
          ]
        }
      ]
    },
    {
      "cell_type": "code",
      "source": [
        "# There are n columns in the feature matrix\n",
        "# after One Hot Encoding.\n",
        "X = tf.placeholder(tf.float32, [None, n])\n",
        "\n",
        "# Since this is a binary classification problem,\n",
        "# Y can take only 2 values.\n",
        "Y = tf.placeholder(tf.float32, [None, 2])\n",
        "\n",
        "# Trainable Variable Weights\n",
        "W = tf.Variable(tf.zeros([n, 2]))\n",
        "\n",
        "# Trainable Variable Bias\n",
        "b = tf.Variable(tf.zeros([2]))\n"
      ],
      "metadata": {
        "id": "bqf4p8GqVnEP"
      },
      "execution_count": 25,
      "outputs": []
    },
    {
      "cell_type": "code",
      "source": [
        "# Hypothesis\n",
        "Y_hat = tf.nn.sigmoid(tf.add(tf.matmul(X, W), b))\n",
        "\n",
        "# Sigmoid Cross Entropy Cost Function\n",
        "cost = tf.nn.sigmoid_cross_entropy_with_logits(\n",
        "\t\t\t\t\tlogits = Y_hat, labels = Y)\n",
        "\n",
        "# Gradient Descent Optimizer\n",
        "optimizer = tf.train.GradientDescentOptimizer(\n",
        "\t\tlearning_rate = alpha).minimize(cost)\n",
        "\n",
        "# Global Variables Initializer\n",
        "init = tf.global_variables_initializer()\n"
      ],
      "metadata": {
        "id": "P-27mKOLWq3r"
      },
      "execution_count": 26,
      "outputs": []
    },
    {
      "cell_type": "code",
      "source": [
        "# Starting the Tensorflow Session\n",
        "with tf.Session() as sess:\n",
        "\t\n",
        "\t# Initializing the Variables\n",
        "\tsess.run(init)\n",
        "\t\n",
        "\t# Lists for storing the changing Cost and Accuracy in every Epoch\n",
        "\tcost_history, accuracy_history = [], []\n",
        "\t\n",
        "\t# Iterating through all the epochs\n",
        "\tfor epoch in range(epochs):\n",
        "\t\tcost_per_epoch = 0\n",
        "\t\t\n",
        "\t\t# Running the Optimizer\n",
        "\t\tsess.run(optimizer, feed_dict = {X : x, Y : y})\n",
        "\t\t\n",
        "\t\t# Calculating cost on current Epoch\n",
        "\t\tc = sess.run(cost, feed_dict = {X : x, Y : y})\n",
        "\t\t\n",
        "\t\t# Calculating accuracy on current Epoch\n",
        "\t\tcorrect_prediction = tf.equal(tf.argmax(Y_hat, 1),\n",
        "\t\t\t\t\t\t\t\t\t\ttf.argmax(Y, 1))\n",
        "\t\taccuracy = tf.reduce_mean(tf.cast(correct_prediction,\n",
        "\t\t\t\t\t\t\t\t\t\t\t\ttf.float32))\n",
        "\t\t\n",
        "\t\t# Storing Cost and Accuracy to the history\n",
        "\t\tcost_history.append(sum(sum(c)))\n",
        "\t\taccuracy_history.append(accuracy.eval({X : x, Y : y}) * 100)\n",
        "\t\t\n",
        "\t\t# Displaying result on current Epoch\n",
        "\t\tif epoch % 100 == 0 and epoch != 0:\n",
        "\t\t\tprint(\"Epoch \" + str(epoch) + \" Cost: \"\n",
        "\t\t\t\t\t\t\t+ str(cost_history[-1]))\n",
        "\t\n",
        "\tWeight = sess.run(W) # Optimized Weight\n",
        "\tBias = sess.run(b) # Optimized Bias\n",
        "\t\n",
        "\t# Final Accuracy\n",
        "\tcorrect_prediction = tf.equal(tf.argmax(Y_hat, 1),\n",
        "\t\t\t\t\t\t\t\t\ttf.argmax(Y, 1))\n",
        "\taccuracy = tf.reduce_mean(tf.cast(correct_prediction,\n",
        "\t\t\t\t\t\t\t\t\t\t\ttf.float32))\n",
        "\tprint(\"\\nAccuracy:\", accuracy_history[-1], \"%\")\n"
      ],
      "metadata": {
        "colab": {
          "base_uri": "https://localhost:8080/"
        },
        "id": "fK_eq98CW7q-",
        "outputId": "9902a7a7-f9b0-4b7b-f719-5618eb7440dd"
      },
      "execution_count": 27,
      "outputs": [
        {
          "output_type": "stream",
          "name": "stdout",
          "text": [
            "Epoch 100 Cost: 134.90487670898438\n",
            "Epoch 200 Cost: 131.2930679321289\n",
            "Epoch 300 Cost: 128.38414001464844\n",
            "Epoch 400 Cost: 125.91455078125\n",
            "\n",
            "Accuracy: 88.88888955116272 %\n"
          ]
        }
      ]
    },
    {
      "cell_type": "code",
      "source": [
        "plt.plot(list(range(epochs)), cost_history)\n",
        "plt.xlabel('Epochs')\n",
        "plt.ylabel('Cost')\n",
        "plt.title('Decrease in Cost with Epochs')\n",
        "\n",
        "plt.show()\n"
      ],
      "metadata": {
        "colab": {
          "base_uri": "https://localhost:8080/",
          "height": 295
        },
        "id": "9qaubpC6XP6k",
        "outputId": "ee9ba07d-cc0b-4f0b-b8de-66d27fcf80b4"
      },
      "execution_count": 28,
      "outputs": [
        {
          "output_type": "display_data",
          "data": {
            "text/plain": [
              "<Figure size 432x288 with 1 Axes>"
            ],
            "image/png": "[encoded data removed]"
          },
          "metadata": {
            "needs_background": "light"
          }
        }
      ]
    },
    {
      "cell_type": "code",
      "source": [
        "plt.plot(list(range(epochs)), accuracy_history)\n",
        "plt.xlabel('Epochs')\n",
        "plt.ylabel('Accuracy')\n",
        "plt.title('Increase in Accuracy with Epochs')\n",
        "\n",
        "plt.show()\n"
      ],
      "metadata": {
        "colab": {
          "base_uri": "https://localhost:8080/",
          "height": 295
        },
        "id": "6fWBjhYfYZTj",
        "outputId": "f1ee3fea-55e2-4690-ef63-0bae2b782b01"
      },
      "execution_count": 29,
      "outputs": [
        {
          "output_type": "display_data",
          "data": {
            "text/plain": [
              "<Figure size 432x288 with 1 Axes>"
            ],
            "image/png": "[encoded data removed]"
          },
          "metadata": {
            "needs_background": "light"
          }
        }
      ]
    }
  ]
}